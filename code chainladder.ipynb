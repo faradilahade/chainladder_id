{
 "cells": [
  {
   "cell_type": "code",
   "execution_count": 6,
   "id": "97484bbb",
   "metadata": {},
   "outputs": [
    {
     "name": "stdout",
     "output_type": "stream",
     "text": [
      "Requirement already satisfied: chainladder in f:\\db_fara\\14. actuarial modeling\\chainladder\\ven\\lib\\site-packages (0.8.24)\n",
      "Requirement already satisfied: pandas>=2.0 in f:\\db_fara\\14. actuarial modeling\\chainladder\\ven\\lib\\site-packages (from chainladder) (2.2.3)\n",
      "Requirement already satisfied: scikit-learn>1.4.2 in f:\\db_fara\\14. actuarial modeling\\chainladder\\ven\\lib\\site-packages (from chainladder) (1.6.1)\n",
      "Requirement already satisfied: numba>0.54 in f:\\db_fara\\14. actuarial modeling\\chainladder\\ven\\lib\\site-packages (from chainladder) (0.61.2)\n",
      "Requirement already satisfied: sparse>=0.9 in f:\\db_fara\\14. actuarial modeling\\chainladder\\ven\\lib\\site-packages (from chainladder) (0.16.0)\n",
      "Requirement already satisfied: matplotlib in f:\\db_fara\\14. actuarial modeling\\chainladder\\ven\\lib\\site-packages (from chainladder) (3.10.1)\n",
      "Requirement already satisfied: dill in f:\\db_fara\\14. actuarial modeling\\chainladder\\ven\\lib\\site-packages (from chainladder) (0.4.0)\n",
      "Requirement already satisfied: patsy in f:\\db_fara\\14. actuarial modeling\\chainladder\\ven\\lib\\site-packages (from chainladder) (1.0.1)\n",
      "Requirement already satisfied: llvmlite<0.45,>=0.44.0dev0 in f:\\db_fara\\14. actuarial modeling\\chainladder\\ven\\lib\\site-packages (from numba>0.54->chainladder) (0.44.0)\n",
      "Requirement already satisfied: numpy<2.3,>=1.24 in f:\\db_fara\\14. actuarial modeling\\chainladder\\ven\\lib\\site-packages (from numba>0.54->chainladder) (2.2.5)\n",
      "Requirement already satisfied: python-dateutil>=2.8.2 in f:\\db_fara\\14. actuarial modeling\\chainladder\\ven\\lib\\site-packages (from pandas>=2.0->chainladder) (2.9.0.post0)\n",
      "Requirement already satisfied: pytz>=2020.1 in f:\\db_fara\\14. actuarial modeling\\chainladder\\ven\\lib\\site-packages (from pandas>=2.0->chainladder) (2025.2)\n",
      "Requirement already satisfied: tzdata>=2022.7 in f:\\db_fara\\14. actuarial modeling\\chainladder\\ven\\lib\\site-packages (from pandas>=2.0->chainladder) (2025.2)\n",
      "Requirement already satisfied: scipy>=1.6.0 in f:\\db_fara\\14. actuarial modeling\\chainladder\\ven\\lib\\site-packages (from scikit-learn>1.4.2->chainladder) (1.15.2)\n",
      "Requirement already satisfied: joblib>=1.2.0 in f:\\db_fara\\14. actuarial modeling\\chainladder\\ven\\lib\\site-packages (from scikit-learn>1.4.2->chainladder) (1.4.2)\n",
      "Requirement already satisfied: threadpoolctl>=3.1.0 in f:\\db_fara\\14. actuarial modeling\\chainladder\\ven\\lib\\site-packages (from scikit-learn>1.4.2->chainladder) (3.6.0)\n",
      "Requirement already satisfied: contourpy>=1.0.1 in f:\\db_fara\\14. actuarial modeling\\chainladder\\ven\\lib\\site-packages (from matplotlib->chainladder) (1.3.2)\n",
      "Requirement already satisfied: cycler>=0.10 in f:\\db_fara\\14. actuarial modeling\\chainladder\\ven\\lib\\site-packages (from matplotlib->chainladder) (0.12.1)\n",
      "Requirement already satisfied: fonttools>=4.22.0 in f:\\db_fara\\14. actuarial modeling\\chainladder\\ven\\lib\\site-packages (from matplotlib->chainladder) (4.57.0)\n",
      "Requirement already satisfied: kiwisolver>=1.3.1 in f:\\db_fara\\14. actuarial modeling\\chainladder\\ven\\lib\\site-packages (from matplotlib->chainladder) (1.4.8)\n",
      "Requirement already satisfied: packaging>=20.0 in f:\\db_fara\\14. actuarial modeling\\chainladder\\ven\\lib\\site-packages (from matplotlib->chainladder) (25.0)\n",
      "Requirement already satisfied: pillow>=8 in f:\\db_fara\\14. actuarial modeling\\chainladder\\ven\\lib\\site-packages (from matplotlib->chainladder) (11.2.1)\n",
      "Requirement already satisfied: pyparsing>=2.3.1 in f:\\db_fara\\14. actuarial modeling\\chainladder\\ven\\lib\\site-packages (from matplotlib->chainladder) (3.2.3)\n",
      "Requirement already satisfied: six>=1.5 in f:\\db_fara\\14. actuarial modeling\\chainladder\\ven\\lib\\site-packages (from python-dateutil>=2.8.2->pandas>=2.0->chainladder) (1.17.0)\n",
      "Note: you may need to restart the kernel to use updated packages.\n"
     ]
    },
    {
     "name": "stderr",
     "output_type": "stream",
     "text": [
      "\n",
      "[notice] A new release of pip is available: 24.0 -> 25.0.1\n",
      "[notice] To update, run: python.exe -m pip install --upgrade pip\n"
     ]
    }
   ],
   "source": [
    "pip install chainladder"
   ]
  },
  {
   "cell_type": "code",
   "execution_count": null,
   "id": "d57800f1",
   "metadata": {},
   "outputs": [],
   "source": []
  },
  {
   "cell_type": "code",
   "execution_count": 3,
   "id": "14cd0419",
   "metadata": {},
   "outputs": [
    {
     "name": "stdout",
     "output_type": "stream",
     "text": [
      "Collecting git+https://github.com/casact/chainladder-python/\n",
      "  Cloning https://github.com/casact/chainladder-python/ to c:\\users\\admin\\appdata\\local\\temp\\pip-req-build-lfulllu7\n",
      "  Resolved https://github.com/casact/chainladder-python/ to commit f1a86303e6e055bc25faa9fb96436770017d8a77\n",
      "  Installing build dependencies: started\n",
      "  Installing build dependencies: finished with status 'done'\n",
      "  Getting requirements to build wheel: started\n",
      "  Getting requirements to build wheel: finished with status 'done'\n",
      "  Preparing metadata (pyproject.toml): started\n",
      "  Preparing metadata (pyproject.toml): finished with status 'done'\n",
      "Requirement already satisfied: pandas>=2.0 in f:\\db_fara\\14. actuarial modeling\\chainladder\\ven\\lib\\site-packages (from chainladder==0.8.24) (2.2.3)\n",
      "Requirement already satisfied: scikit-learn>1.4.2 in f:\\db_fara\\14. actuarial modeling\\chainladder\\ven\\lib\\site-packages (from chainladder==0.8.24) (1.6.1)\n",
      "Requirement already satisfied: numba>0.54 in f:\\db_fara\\14. actuarial modeling\\chainladder\\ven\\lib\\site-packages (from chainladder==0.8.24) (0.61.2)\n",
      "Requirement already satisfied: sparse>=0.9 in f:\\db_fara\\14. actuarial modeling\\chainladder\\ven\\lib\\site-packages (from chainladder==0.8.24) (0.16.0)\n",
      "Requirement already satisfied: matplotlib in f:\\db_fara\\14. actuarial modeling\\chainladder\\ven\\lib\\site-packages (from chainladder==0.8.24) (3.10.1)\n",
      "Requirement already satisfied: dill in f:\\db_fara\\14. actuarial modeling\\chainladder\\ven\\lib\\site-packages (from chainladder==0.8.24) (0.4.0)\n",
      "Requirement already satisfied: patsy in f:\\db_fara\\14. actuarial modeling\\chainladder\\ven\\lib\\site-packages (from chainladder==0.8.24) (1.0.1)\n",
      "Requirement already satisfied: llvmlite<0.45,>=0.44.0dev0 in f:\\db_fara\\14. actuarial modeling\\chainladder\\ven\\lib\\site-packages (from numba>0.54->chainladder==0.8.24) (0.44.0)\n",
      "Requirement already satisfied: numpy<2.3,>=1.24 in f:\\db_fara\\14. actuarial modeling\\chainladder\\ven\\lib\\site-packages (from numba>0.54->chainladder==0.8.24) (2.2.5)\n",
      "Requirement already satisfied: python-dateutil>=2.8.2 in f:\\db_fara\\14. actuarial modeling\\chainladder\\ven\\lib\\site-packages (from pandas>=2.0->chainladder==0.8.24) (2.9.0.post0)\n",
      "Requirement already satisfied: pytz>=2020.1 in f:\\db_fara\\14. actuarial modeling\\chainladder\\ven\\lib\\site-packages (from pandas>=2.0->chainladder==0.8.24) (2025.2)\n",
      "Requirement already satisfied: tzdata>=2022.7 in f:\\db_fara\\14. actuarial modeling\\chainladder\\ven\\lib\\site-packages (from pandas>=2.0->chainladder==0.8.24) (2025.2)\n",
      "Requirement already satisfied: scipy>=1.6.0 in f:\\db_fara\\14. actuarial modeling\\chainladder\\ven\\lib\\site-packages (from scikit-learn>1.4.2->chainladder==0.8.24) (1.15.2)\n",
      "Requirement already satisfied: joblib>=1.2.0 in f:\\db_fara\\14. actuarial modeling\\chainladder\\ven\\lib\\site-packages (from scikit-learn>1.4.2->chainladder==0.8.24) (1.4.2)\n",
      "Requirement already satisfied: threadpoolctl>=3.1.0 in f:\\db_fara\\14. actuarial modeling\\chainladder\\ven\\lib\\site-packages (from scikit-learn>1.4.2->chainladder==0.8.24) (3.6.0)\n",
      "Requirement already satisfied: contourpy>=1.0.1 in f:\\db_fara\\14. actuarial modeling\\chainladder\\ven\\lib\\site-packages (from matplotlib->chainladder==0.8.24) (1.3.2)\n",
      "Requirement already satisfied: cycler>=0.10 in f:\\db_fara\\14. actuarial modeling\\chainladder\\ven\\lib\\site-packages (from matplotlib->chainladder==0.8.24) (0.12.1)\n",
      "Requirement already satisfied: fonttools>=4.22.0 in f:\\db_fara\\14. actuarial modeling\\chainladder\\ven\\lib\\site-packages (from matplotlib->chainladder==0.8.24) (4.57.0)\n",
      "Requirement already satisfied: kiwisolver>=1.3.1 in f:\\db_fara\\14. actuarial modeling\\chainladder\\ven\\lib\\site-packages (from matplotlib->chainladder==0.8.24) (1.4.8)\n",
      "Requirement already satisfied: packaging>=20.0 in f:\\db_fara\\14. actuarial modeling\\chainladder\\ven\\lib\\site-packages (from matplotlib->chainladder==0.8.24) (25.0)\n",
      "Requirement already satisfied: pillow>=8 in f:\\db_fara\\14. actuarial modeling\\chainladder\\ven\\lib\\site-packages (from matplotlib->chainladder==0.8.24) (11.2.1)\n",
      "Requirement already satisfied: pyparsing>=2.3.1 in f:\\db_fara\\14. actuarial modeling\\chainladder\\ven\\lib\\site-packages (from matplotlib->chainladder==0.8.24) (3.2.3)\n",
      "Requirement already satisfied: six>=1.5 in f:\\db_fara\\14. actuarial modeling\\chainladder\\ven\\lib\\site-packages (from python-dateutil>=2.8.2->pandas>=2.0->chainladder==0.8.24) (1.17.0)\n",
      "Note: you may need to restart the kernel to use updated packages.\n"
     ]
    },
    {
     "name": "stderr",
     "output_type": "stream",
     "text": [
      "  Running command git clone --filter=blob:none --quiet https://github.com/casact/chainladder-python/ 'C:\\Users\\admin\\AppData\\Local\\Temp\\pip-req-build-lfulllu7'\n",
      "\n",
      "[notice] A new release of pip is available: 24.0 -> 25.0.1\n",
      "[notice] To update, run: python.exe -m pip install --upgrade pip\n"
     ]
    }
   ],
   "source": [
    "pip install git+https://github.com/casact/chainladder-python/"
   ]
  }
 ],
 "metadata": {
  "kernelspec": {
   "display_name": "ven",
   "language": "python",
   "name": "python3"
  },
  "language_info": {
   "codemirror_mode": {
    "name": "ipython",
    "version": 3
   },
   "file_extension": ".py",
   "mimetype": "text/x-python",
   "name": "python",
   "nbconvert_exporter": "python",
   "pygments_lexer": "ipython3",
   "version": "3.12.2"
  }
 },
 "nbformat": 4,
 "nbformat_minor": 5
}
